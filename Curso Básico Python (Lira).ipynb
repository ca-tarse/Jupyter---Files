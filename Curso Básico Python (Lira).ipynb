{
 "cells": [
  {
   "cell_type": "code",
   "execution_count": null,
   "id": "8344bb72",
   "metadata": {},
   "outputs": [],
   "source": [
    "#Python - Essencial [Aula 1]\n",
    "#Aplicações:\n",
    "        #Automação de tarefas e processos.\n",
    "        #Criação de Sites, jogos, sistemas, programas, APIS e aplicativos.\n",
    "        #Análise e Ciência de dados, BI e Inteligencia Artificial.\n",
    "        \n",
    "#Lógica - Passo a passo solução do Desafio.\n",
    "        # 0- Entender o problema\n",
    "        # 1 - Percorrer todos os arquivos da pasta 'vendas'\n",
    "        # 2 - Importar as bases de dados de vendas\n",
    "        # 3 - Tratar as bases de dados\n",
    "        # 4 - Calcular o produto mais vendido (quantidade)\n",
    "        # 5 - Calcular o produto que mais faturou (faturamento)\n",
    "        # 6 - Calcular a loja/cidade que mais vendeu (faturamento) - gráfico/dashboard\n",
    "        \n",
    "        "
   ]
  },
  {
   "cell_type": "code",
   "execution_count": null,
   "id": "323d063a",
   "metadata": {},
   "outputs": [],
   "source": [
    "#Python - Essencial [Aula 2]\n",
    "\n",
    "import os\n",
    "\n",
    "lista_arquivos = os.listdir('#Python - Essencial [Aula 1]')\n",
    "#listdir é um metodo da biblioteca os que lista os arquivos existentes em um local.\n"
   ]
  },
  {
   "cell_type": "code",
   "execution_count": null,
   "id": "47f82790",
   "metadata": {},
   "outputs": [],
   "source": []
  }
 ],
 "metadata": {
  "kernelspec": {
   "display_name": "Python 3 (ipykernel)",
   "language": "python",
   "name": "python3"
  },
  "language_info": {
   "codemirror_mode": {
    "name": "ipython",
    "version": 3
   },
   "file_extension": ".py",
   "mimetype": "text/x-python",
   "name": "python",
   "nbconvert_exporter": "python",
   "pygments_lexer": "ipython3",
   "version": "3.10.6"
  }
 },
 "nbformat": 4,
 "nbformat_minor": 5
}
